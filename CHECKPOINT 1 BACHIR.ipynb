{
 "cells": [
  {
   "cell_type": "code",
   "execution_count": 3,
   "id": "201434bb-4357-4a59-81ba-4d9de6558161",
   "metadata": {},
   "outputs": [
    {
     "name": "stdout",
     "output_type": "stream",
     "text": [
      "Welcome to python world! Let's start codind\n"
     ]
    }
   ],
   "source": [
    "print (\"Welcome to python world! Let's start codind\")"
   ]
  },
  {
   "cell_type": "code",
   "execution_count": null,
   "id": "220096bb-cd3e-46d0-9c0d-49e090012d1e",
   "metadata": {},
   "outputs": [],
   "source": []
  }
 ],
 "metadata": {
  "kernelspec": {
   "display_name": "Python 3 (ipykernel)",
   "language": "python",
   "name": "python3"
  },
  "language_info": {
   "codemirror_mode": {
    "name": "ipython",
    "version": 3
   },
   "file_extension": ".py",
   "mimetype": "text/x-python",
   "name": "python",
   "nbconvert_exporter": "python",
   "pygments_lexer": "ipython3",
   "version": "3.11.7"
  }
 },
 "nbformat": 4,
 "nbformat_minor": 5
}
